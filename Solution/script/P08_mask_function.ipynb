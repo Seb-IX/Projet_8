{
 "cells": [
  {
   "cell_type": "markdown",
   "id": "6b576a04",
   "metadata": {},
   "source": [
    "# Récupération des mask\n",
    "\n",
    "\"Future vision transport\" conçoit des systèmes embarqués de vision par ordinateur pour les véhicules autonommes.\n",
    "<img src=\"./img/logo_future_vision_transport.png\" width=\"400px\">\n",
    "\n",
    "Le but de ce projet et de concevoir un système embarqué qui permet l'aquicisition d'image, le traitement des images, la segmentation des images puis un système de décision en bout de chaîne.\n",
    "\n",
    "Mon role ici est de fournir une segmentation sémantique des images dans le but de facilité le système de décision dans ces choix. \n",
    "\n",
    "<img src=\"./img/logo_cityscapes.png\" width=\"400px\">\n",
    "\n",
    "Pour ça, on utilisera le jeu de données CityScapes qui fournie un jeu de données de 3000 images d'une caméra embarqué avec un ensemble de masque avec les différent label de segmentation comme détailé <a href=\"https://www.cityscapes-dataset.com/dataset-overview/\">ici </a>.\n",
    "\n",
    "Voici un exemple de rendu que l'on souhaite obtenir :\n",
    "<img src=\"./img/example_segmentation_semantic.png\" width=\"400px\">"
   ]
  },
  {
   "cell_type": "code",
   "execution_count": 1,
   "id": "2af7d362",
   "metadata": {},
   "outputs": [],
   "source": [
    "import cv2\n",
    "import imgaug\n",
    "import matplotlib.pyplot as plt\n",
    "import os\n",
    "import json\n",
    "import function as fnct\n",
    "import time\n",
    "%matplotlib inline"
   ]
  },
  {
   "cell_type": "code",
   "execution_count": 2,
   "id": "59fbcf6d",
   "metadata": {},
   "outputs": [],
   "source": [
    "dir_y = \"./data/gtFine/\"\n",
    "dir_x = \"./data/leftImg8bit/\""
   ]
  },
  {
   "cell_type": "markdown",
   "id": "01688148",
   "metadata": {},
   "source": [
    "Voici un exemple de la structure des fichier que l'on récupére sur CityScapes Dataset :"
   ]
  },
  {
   "cell_type": "code",
   "execution_count": 3,
   "id": "d739da1b",
   "metadata": {},
   "outputs": [
    {
     "name": "stdout",
     "output_type": "stream",
     "text": [
      "- ./data/leftImg8bit/\n",
      "     |_ test\n",
      "         |___ berlin ( 544 )\n",
      "         |___ bielefeld ( 181 )\n",
      "         |___ bonn ( 46 )\n",
      "         |___ leverkusen ( 58 )\n",
      "         |___ mainz ( 298 )\n",
      "         |___ munich ( 398 )\n",
      "     |_ train\n",
      "         |___ aachen ( 174 )\n",
      "         |___ bochum ( 96 )\n",
      "         |___ bremen ( 316 )\n",
      "         |___ cologne ( 154 )\n",
      "         |___ darmstadt ( 85 )\n",
      "         |___ dusseldorf ( 221 )\n",
      "         |___ erfurt ( 109 )\n",
      "         |___ hamburg ( 248 )\n",
      "         |___ hanover ( 196 )\n",
      "         |___ jena ( 119 )\n",
      "         |___ krefeld ( 99 )\n",
      "         |___ monchengladbach ( 94 )\n",
      "         |___ strasbourg ( 365 )\n",
      "         |___ stuttgart ( 196 )\n",
      "         |___ tubingen ( 144 )\n",
      "         |___ ulm ( 95 )\n",
      "         |___ weimar ( 142 )\n",
      "         |___ zurich ( 122 )\n",
      "     |_ val\n",
      "         |___ frankfurt ( 267 )\n",
      "         |___ lindau ( 59 )\n",
      "         |___ munster ( 174 )\n"
     ]
    }
   ],
   "source": [
    "print(\"-\", dir_x)\n",
    "for dir_ in os.listdir(dir_x):\n",
    "    print(\"     |_\",dir_)\n",
    "    for dir_2 in os.listdir(dir_x + dir_):\n",
    "        nb_file = len(os.listdir(dir_x + dir_ +\"/\"+ dir_2))\n",
    "        print(\"         |___\",dir_2, \"(\",nb_file,\")\")"
   ]
  },
  {
   "cell_type": "code",
   "execution_count": 4,
   "id": "e9ef73bd",
   "metadata": {},
   "outputs": [
    {
     "name": "stdout",
     "output_type": "stream",
     "text": [
      "- ./data/gtFine/\n",
      "     |_ test\n",
      "         |___ berlin ( total : 2176 ET divisé par 4 : 544 )\n",
      "         |___ bielefeld ( total : 724 ET divisé par 4 : 181 )\n",
      "         |___ bonn ( total : 184 ET divisé par 4 : 46 )\n",
      "         |___ leverkusen ( total : 232 ET divisé par 4 : 58 )\n",
      "         |___ mainz ( total : 1192 ET divisé par 4 : 298 )\n",
      "         |___ munich ( total : 1592 ET divisé par 4 : 398 )\n",
      "     |_ train\n",
      "         |___ aachen ( total : 696 ET divisé par 4 : 174 )\n",
      "         |___ bochum ( total : 384 ET divisé par 4 : 96 )\n",
      "         |___ bremen ( total : 1264 ET divisé par 4 : 316 )\n",
      "         |___ cologne ( total : 616 ET divisé par 4 : 154 )\n",
      "         |___ darmstadt ( total : 340 ET divisé par 4 : 85 )\n",
      "         |___ dusseldorf ( total : 884 ET divisé par 4 : 221 )\n",
      "         |___ erfurt ( total : 436 ET divisé par 4 : 109 )\n",
      "         |___ hamburg ( total : 992 ET divisé par 4 : 248 )\n",
      "         |___ hanover ( total : 784 ET divisé par 4 : 196 )\n",
      "         |___ jena ( total : 476 ET divisé par 4 : 119 )\n",
      "         |___ krefeld ( total : 396 ET divisé par 4 : 99 )\n",
      "         |___ monchengladbach ( total : 376 ET divisé par 4 : 94 )\n",
      "         |___ strasbourg ( total : 1460 ET divisé par 4 : 365 )\n",
      "         |___ stuttgart ( total : 784 ET divisé par 4 : 196 )\n",
      "         |___ tubingen ( total : 576 ET divisé par 4 : 144 )\n",
      "         |___ ulm ( total : 380 ET divisé par 4 : 95 )\n",
      "         |___ weimar ( total : 568 ET divisé par 4 : 142 )\n",
      "         |___ zurich ( total : 488 ET divisé par 4 : 122 )\n",
      "     |_ val\n",
      "         |___ frankfurt ( total : 1068 ET divisé par 4 : 267 )\n",
      "         |___ lindau ( total : 236 ET divisé par 4 : 59 )\n",
      "         |___ munster ( total : 696 ET divisé par 4 : 174 )\n"
     ]
    }
   ],
   "source": [
    "print(\"-\", dir_y)\n",
    "for dir_ in os.listdir(dir_y):\n",
    "    print(\"     |_\",dir_)\n",
    "    for dir_2 in os.listdir(dir_y + dir_):\n",
    "        nb_file = len(os.listdir(dir_y + dir_ +\"/\"+ dir_2))\n",
    "        print(\"         |___\",dir_2, \"( total :\",nb_file,\"ET divisé par 4 :\",nb_file//4,\")\")"
   ]
  },
  {
   "cell_type": "code",
   "execution_count": 5,
   "id": "b12d661f",
   "metadata": {},
   "outputs": [],
   "source": [
    "dir_train = \"train/\"\n",
    "all_directory = {}\n",
    "for file in os.listdir(dir_y + dir_train):\n",
    "    all_directory[file] = []"
   ]
  },
  {
   "cell_type": "markdown",
   "id": "66ee3fdc",
   "metadata": {},
   "source": [
    "On retrouve la même strucutre sur les 2 dossiers \"gtFine\" et \"leftImg8bit\".\n",
    "- gtFine correspond aux outputs c'est à dire au masque de notre segmentation sémantique\n",
    "- leftImg8bit correspond aux inputs c'est à dire au image RGB récupérer de la vidéo de la dashcam d'un véhicule\n",
    "\n",
    "Dans ces dossier on à ensuite 3 dossier qui correspond à une séparation des données en données d'entrainement (train) de validation (val) et un dossier de test (test)\n",
    "\n",
    "Dans chacun de ces dossiers nous avons ensuite un dossier par ville ou le véhicule contenant la dashcam est passé.\n",
    "\n",
    "Si on regarde la quantité de fichier entre le dossier d'input et d'output on remarque que nous avons 4 fois plus de masque que de données d'entrée exactement"
   ]
  },
  {
   "cell_type": "code",
   "execution_count": 6,
   "id": "21f78a62",
   "metadata": {},
   "outputs": [
    {
     "name": "stdout",
     "output_type": "stream",
     "text": [
      "- aachen_000000_000019_leftImg8bit.png\n",
      "- aachen_000001_000019_leftImg8bit.png\n"
     ]
    }
   ],
   "source": [
    "for i in range(2):\n",
    "    print(\"-\",os.listdir(dir_x + dir_train + \"aachen\")[i])"
   ]
  },
  {
   "cell_type": "code",
   "execution_count": 7,
   "id": "6af3f523",
   "metadata": {},
   "outputs": [
    {
     "name": "stdout",
     "output_type": "stream",
     "text": [
      "- aachen_000000_000019_gtFine_color.png\n",
      "- aachen_000000_000019_gtFine_instanceIds.png\n",
      "- aachen_000000_000019_gtFine_labelIds.png\n",
      "- aachen_000000_000019_gtFine_polygons.json\n",
      "\n",
      "- aachen_000001_000019_gtFine_color.png\n",
      "- aachen_000001_000019_gtFine_instanceIds.png\n",
      "- aachen_000001_000019_gtFine_labelIds.png\n",
      "- aachen_000001_000019_gtFine_polygons.json\n"
     ]
    }
   ],
   "source": [
    "for i in range(4):\n",
    "    print(\"-\",os.listdir(dir_y + dir_train + \"aachen\")[i])\n",
    "print(\"\")\n",
    "for i in range(4,8):\n",
    "    print(\"-\",os.listdir(dir_y + dir_train + \"aachen\")[i])"
   ]
  },
  {
   "cell_type": "markdown",
   "id": "a730611a",
   "metadata": {},
   "source": [
    "On voit que les dossiers contiennent bien 4 fichiers pour une entrée (qui est composé par l'id d'image de la vidéo \"00000**0**_000019\" puis l'image 2 de la vidéo \"00000**1**_000019\")\n",
    "\n",
    "On peux maintenant regarder comment sont constituer les images/fichiers .json"
   ]
  },
  {
   "cell_type": "code",
   "execution_count": 8,
   "id": "b92484b0",
   "metadata": {},
   "outputs": [
    {
     "data": {
      "image/png": "[encoded data removed]",
      "text/plain": [
       "<Figure size 1440x1440 with 3 Axes>"
      ]
     },
     "metadata": {
      "needs_background": "light"
     },
     "output_type": "display_data"
    }
   ],
   "source": [
    "image_0 = cv2.imread(dir_y + dir_train + \"aachen/\" + \"aachen_000000_000019_gtFine_color.png\")\n",
    "image_1 = cv2.imread(dir_y + dir_train + \"aachen/\" + \"aachen_000000_000019_gtFine_instanceIds.png\")\n",
    "image_2 = cv2.imread(dir_y + dir_train + \"aachen/\" + \"aachen_000000_000019_gtFine_labelIds.png\")\n",
    "\n",
    "fig, axs = plt.subplots(1,3,figsize=(20,20))\n",
    "# fig.suptitle(\"Différence des mask .png\")\n",
    "axs[0].imshow(image_0)\n",
    "axs[0].set_title(\"color.png\")\n",
    "\n",
    "axs[1].imshow(image_1)\n",
    "axs[1].set_title(\"instanceIds.png\")\n",
    "\n",
    "axs[2].imshow(image_2)\n",
    "axs[2].set_title(\"labelIds.png\")\n",
    "\n",
    "plt.show()"
   ]
  },
  {
   "cell_type": "code",
   "execution_count": 9,
   "id": "9c79c60c",
   "metadata": {},
   "outputs": [],
   "source": [
    "def convert(list):\n",
    "    return tuple(list)\n",
    "def count_color_rgb(image):\n",
    "    all_color = {}\n",
    "    for x in range(image.shape[0]):\n",
    "        for y in range(image.shape[1]):\n",
    "            color =  convert(image[x,y].tolist())\n",
    "            if not color in all_color.keys():\n",
    "                all_color[color] = 1\n",
    "            else:\n",
    "                all_color[color] += 1\n",
    "    return all_color"
   ]
  },
  {
   "cell_type": "code",
   "execution_count": 10,
   "id": "c2c4bae9",
   "metadata": {},
   "outputs": [
    {
     "data": {
      "text/plain": [
       "{(0, 0, 0): 127841,\n",
       " (180, 130, 70): 38722,\n",
       " (153, 153, 153): 22846,\n",
       " (70, 70, 70): 611938,\n",
       " (35, 142, 107): 221654,\n",
       " (0, 220, 220): 34863,\n",
       " (142, 0, 0): 42659,\n",
       " (0, 0, 255): 2270,\n",
       " (60, 20, 220): 1588,\n",
       " (32, 11, 119): 2309,\n",
       " (232, 35, 244): 29195,\n",
       " (152, 251, 152): 130185,\n",
       " (128, 64, 128): 831082}"
      ]
     },
     "execution_count": 10,
     "metadata": {},
     "output_type": "execute_result"
    }
   ],
   "source": [
    "count_color_rgb(image_0)"
   ]
  },
  {
   "cell_type": "code",
   "execution_count": 11,
   "id": "acb586bf",
   "metadata": {},
   "outputs": [
    {
     "data": {
      "text/plain": [
       "{(0, 0, 0): 2048326,\n",
       " (101, 101, 101): 42659,\n",
       " (97, 97, 97): 2270,\n",
       " (93, 93, 93): 1588,\n",
       " (128, 128, 128): 2309}"
      ]
     },
     "execution_count": 11,
     "metadata": {},
     "output_type": "execute_result"
    }
   ],
   "source": [
    "count_color_rgb(image_1)"
   ]
  },
  {
   "cell_type": "code",
   "execution_count": 12,
   "id": "fb223ca6",
   "metadata": {},
   "outputs": [
    {
     "data": {
      "text/plain": [
       "{(3, 3, 3): 31634,\n",
       " (23, 23, 23): 38722,\n",
       " (17, 17, 17): 22846,\n",
       " (11, 11, 11): 611938,\n",
       " (21, 21, 21): 221654,\n",
       " (4, 4, 4): 14664,\n",
       " (20, 20, 20): 34863,\n",
       " (26, 26, 26): 42659,\n",
       " (25, 25, 25): 2270,\n",
       " (24, 24, 24): 1588,\n",
       " (33, 33, 33): 2309,\n",
       " (8, 8, 8): 29195,\n",
       " (22, 22, 22): 130185,\n",
       " (7, 7, 7): 831082,\n",
       " (0, 0, 0): 9,\n",
       " (1, 1, 1): 81534}"
      ]
     },
     "execution_count": 12,
     "metadata": {},
     "output_type": "execute_result"
    }
   ],
   "source": [
    "count_color_rgb(image_2)"
   ]
  },
  {
   "cell_type": "markdown",
   "id": "79462a27",
   "metadata": {},
   "source": [
    "On voit ici que l'image \"...color.png\" est bien disposé en RGB pour avoir un affichage en coleurs (une valeur distinct par channel).\n",
    "\n",
    "Pour les 2 autre on retrouve 1 valeur unique pour chaque channel et donc des images plus sombre.\n",
    "- Pour le fichier \"...instanceId.png\" toutes les identifiant de masque **ne sont pas inclus ont vas donc éliminer ce fichier pour la suite**.\n",
    "- pour le fichier \"...labelId.png\" toutes valeurs sont retranscrite sous forme d'ID de 0 à 33.\n",
    "\n",
    "On remarque également que l'image \"...color.png\" est identique à celle de labelId, par exemple la couleur de l'image (70,70,70) correspond à l'id 11 => (11,11,11)"
   ]
  },
  {
   "cell_type": "code",
   "execution_count": 13,
   "id": "ad74089f",
   "metadata": {},
   "outputs": [],
   "source": [
    "def get_all_json_file(path_root_dir : str):\n",
    "    all_file=[]\n",
    "    for file in os.listdir(path_root_dir):\n",
    "        split_file= file.split(\".\")\n",
    "        if split_file[len(split_file) - 1] == 'json':\n",
    "            all_file.append(path_root_dir + \"/\" + file)\n",
    "    return all_file"
   ]
  },
  {
   "cell_type": "code",
   "execution_count": 14,
   "id": "86a53d74",
   "metadata": {},
   "outputs": [],
   "source": [
    "for directory, files in all_directory.items():\n",
    "    files.extend(get_all_json_file(dir_y + dir_train + directory))"
   ]
  },
  {
   "cell_type": "code",
   "execution_count": 15,
   "id": "ef5aba01",
   "metadata": {},
   "outputs": [
    {
     "name": "stdout",
     "output_type": "stream",
     "text": [
      "Première clé du fichier :\n",
      "dict_keys(['imgHeight', 'imgWidth', 'objects'])\n",
      "\n",
      "Contenue d'un object :\n",
      "dict_keys(['label', 'polygon'])\n",
      "\n",
      "label road\n",
      "polygon [[0, 769], [290, 574], [93, 528], [0, 524], [0, 448], [0, 448], [210, 453], [511, 451], [782, 459], [892, 495], [943, 498], [1044, 471], [1490, 486], [1880, 519], [1922, 512], [1975, 522], [2047, 524], [2047, 570], [1668, 553], [2047, 597], [2047, 1023], [892, 1023], [0, 1023]]\n"
     ]
    }
   ],
   "source": [
    "path_file = all_directory[\"aachen\"][0]\n",
    "with open(path_file) as read:\n",
    "    test = json.load(read)\n",
    "    print(\"Première clé du fichier :\")\n",
    "    print(test.keys())\n",
    "    print('')\n",
    "    print(\"Contenue d'un object :\")\n",
    "    print(test[\"objects\"][0].keys())\n",
    "    print('')\n",
    "    print(\"label\",test[\"objects\"][0][\"label\"])\n",
    "    print(\"polygon\",test[\"objects\"][0][\"polygon\"])"
   ]
  },
  {
   "cell_type": "markdown",
   "id": "3039c670",
   "metadata": {},
   "source": [
    "On regarde si les objets contiennent d'autre forme que \"polygon\""
   ]
  },
  {
   "cell_type": "code",
   "execution_count": 16,
   "id": "ee154f63",
   "metadata": {},
   "outputs": [
    {
     "name": "stdout",
     "output_type": "stream",
     "text": [
      "CPU times: user 3.64 s, sys: 1.14 s, total: 4.78 s\n",
      "Wall time: 22.8 s\n"
     ]
    }
   ],
   "source": [
    "%%time\n",
    "value_other = []\n",
    "for json_files in all_directory.values():\n",
    "    for path_file in json_files:\n",
    "        with open(path_file) as read:\n",
    "            test = json.load(read)\n",
    "            for obj in test[\"objects\"]:\n",
    "                if list(obj.keys())[1] != \"polygon\":\n",
    "                    value_other.append(obj.keys()[1])"
   ]
  },
  {
   "cell_type": "code",
   "execution_count": 17,
   "id": "b87519df",
   "metadata": {},
   "outputs": [
    {
     "name": "stdout",
     "output_type": "stream",
     "text": [
      "[]\n"
     ]
    }
   ],
   "source": [
    "print(value_other)"
   ]
  },
  {
   "cell_type": "code",
   "execution_count": 18,
   "id": "ee9aa3fc",
   "metadata": {},
   "outputs": [
    {
     "name": "stdout",
     "output_type": "stream",
     "text": [
      "CPU times: user 3.61 s, sys: 1.21 s, total: 4.81 s\n",
      "Wall time: 12.9 s\n"
     ]
    }
   ],
   "source": [
    "%%time\n",
    "all_labels_counts={}\n",
    "for json_files in all_directory.values():\n",
    "    for path_file in json_files:\n",
    "        with open(path_file) as read:\n",
    "            test = json.load(read)\n",
    "            for obj in test[\"objects\"]:\n",
    "                label = obj[list(obj.keys())[0]]\n",
    "                if label in all_labels_counts.keys():\n",
    "                    all_labels_counts[label] +=1\n",
    "                else:\n",
    "                    all_labels_counts[label] =1"
   ]
  },
  {
   "cell_type": "code",
   "execution_count": 19,
   "id": "0e11fbe5",
   "metadata": {},
   "outputs": [
    {
     "name": "stdout",
     "output_type": "stream",
     "text": [
      "['bicycle', 'bicyclegroup', 'bridge', 'building', 'bus', 'car', 'caravan', 'cargroup', 'dynamic', 'ego vehicle', 'fence', 'ground', 'guard rail', 'license plate', 'motorcycle', 'motorcyclegroup', 'out of roi', 'parking', 'person', 'persongroup', 'pole', 'polegroup', 'rail track', 'rectification border', 'rider', 'ridergroup', 'road', 'sidewalk', 'sky', 'static', 'terrain', 'traffic light', 'traffic sign', 'trailer', 'train', 'truck', 'truckgroup', 'tunnel', 'vegetation', 'wall']\n"
     ]
    }
   ],
   "source": [
    "all_segment = list(all_labels_counts.keys())\n",
    "print(sorted(all_segment))"
   ]
  },
  {
   "cell_type": "markdown",
   "id": "05fc43d6",
   "metadata": {},
   "source": [
    "Tous les label sont disponnible sur le site <a href=\"https://www.cityscapes-dataset.com/dataset-overview/\">cityscape dataset</a>.\n",
    "\n",
    "On retrouve tout de même 5 nouveaux labels qui n'apparaisent pas directment dans les références : \n",
    "- ego vehicle =>  véhicule du conducteur\n",
    "- license plate => plaque d'immatriculation\n",
    "- out of roi => bordure\n",
    "- rectification border => Problème sur l'image, réctification\n",
    "- xxxxxgroup => délimitation fine entre plusieurs xxxxx et donc regrouper en \"groupe\"\n",
    "\n",
    "\n",
    "On souhaite à la fin n'avoir plus que 8 catégories :\n",
    "- void\n",
    "- vechicule \n",
    "- flat\n",
    "- construction\n",
    "- object\n",
    "- nature\n",
    "- sky\n",
    "- human"
   ]
  },
  {
   "cell_type": "code",
   "execution_count": 20,
   "id": "aeaaa27b",
   "metadata": {},
   "outputs": [],
   "source": [
    "cats = {\n",
    "     'bicycle':'vehicle',\n",
    "     'bicyclegroup':'vehicle',\n",
    "     'bridge':'construction',\n",
    "     'building':'construction',\n",
    "     'bus':'vehicle',\n",
    "     'car':'vehicle',\n",
    "     'caravan':'vehicle',\n",
    "     'cargroup':'vehicle',\n",
    "     'dynamic':'void',\n",
    "     'ego vehicle':'void',\n",
    "     'fence':'construction',\n",
    "     'ground':'void',\n",
    "     'guard rail':'construction',\n",
    "     'license plate':'vehicle',\n",
    "     'motorcycle':'vehicle',\n",
    "     'motorcyclegroup':'vehicle',\n",
    "     'out of roi':'void',\n",
    "     'parking':'flat',\n",
    "     'person':'human',\n",
    "     'persongroup':'human',\n",
    "     'pole':'object',\n",
    "     'polegroup':'object',\n",
    "     'rail track':'construction',\n",
    "     'rectification border':'void',\n",
    "     'rider':'human',\n",
    "     'ridergroup':'human',\n",
    "     'road':'flat',\n",
    "     'sidewalk':'flat',\n",
    "     'sky':'sky',\n",
    "     'static':'void',\n",
    "     'terrain':'nature',\n",
    "     'traffic light':'object',\n",
    "     'traffic sign':'object',\n",
    "     'trailer':'vehicle',\n",
    "     'train':'vehicle',\n",
    "     'truck':'vehicle',\n",
    "     'truckgroup':'vehicle',\n",
    "     'tunnel':'construction',\n",
    "     'vegetation':'nature',\n",
    "     'wall':'construction'\n",
    "}\n",
    "\n",
    "cats_id_color= {\n",
    "    'void':(0,0,0),\n",
    "    'flat':(255,0,0),\n",
    "    'construction':(200,200,200),\n",
    "    'object':(120,0,120),\n",
    "    'nature':(100,100,100),\n",
    "    'sky':(0,255,0),\n",
    "    'human':(200,200,0),\n",
    "    'vehicle':(0,0,255)\n",
    "}\n",
    "\n",
    "cats_id_json= {\n",
    "    'void':(0),\n",
    "    'flat':(1),\n",
    "    'construction':(2),\n",
    "    'object':(3),\n",
    "    'nature':(4),\n",
    "    'sky':(5),\n",
    "    'human':(6),\n",
    "    'vehicle':(7)\n",
    "}\n",
    "\n",
    "cats_id_json_one_hot= {\n",
    "    'void':        (1,0,0,0,0,0,0,0),\n",
    "    'flat':        (0,1,0,0,0,0,0,0),\n",
    "    'construction':(0,0,1,0,0,0,0,0),\n",
    "    'object':      (0,0,0,1,0,0,0,0),\n",
    "    'nature':      (0,0,0,0,1,0,0,0),\n",
    "    'sky':         (0,0,0,0,0,1,0,0),\n",
    "    'human':       (0,0,0,0,0,0,1,0),\n",
    "    'vehicle':     (0,0,0,0,0,0,0,1)\n",
    "}"
   ]
  },
  {
   "cell_type": "markdown",
   "id": "33d01c15",
   "metadata": {},
   "source": [
    "## Test des 2 méthodes de récupération de masque\n",
    "\n",
    "Dans ce test on essaiera les 2 différentes méthode de récupération de masque (2 type de fichier):\n",
    "- Le fichier labelid.png qui est simillaire au color.png\n",
    "- Le fichier JSON qui contient les information des différents masques\n",
    "\n",
    "Pour ce faire on utilisera 2 mesures, la création/récupération du mask et la mise en forme en one_hot_encoder.\n",
    "\n",
    "Bien evidament on souhaite le moyen le plus performant d'obtenir le masque final, c'est-à-dire, avec seulement 8 catégories\n",
    "\n",
    "### Depuis le fichier JSON"
   ]
  },
  {
   "cell_type": "code",
   "execution_count": 21,
   "id": "8cff1424",
   "metadata": {},
   "outputs": [],
   "source": [
    "from imgaug.augmentables.kps import KeypointsOnImage\n",
    "from imgaug.augmentables.polys import Polygon\n",
    "import numpy as np\n",
    "\n",
    "import imgaug as ia\n",
    "\n",
    "def draw_on_mask(mask,obj,dic_label,dic_color,image_shape,default_value='void'):\n",
    "    polygon = obj[\"polygon\"]\n",
    "    label = obj[\"label\"]\n",
    "    if label in cats.keys():\n",
    "        final_label = dic_label[label]\n",
    "    else:\n",
    "        final_label = default_value\n",
    "    # On redessine tout les polygon sur le mask vierge\n",
    "    test_xy = np.float32(polygon)\n",
    "    key_point = KeypointsOnImage.from_xy_array(test_xy, shape=image_shape)\n",
    "    poly = Polygon(key_point.keypoints)\n",
    "    mask = poly.draw_on_image(mask,\n",
    "                              color=dic_color[final_label],\n",
    "                              alpha=1.0, alpha_lines=0.0, alpha_points=0.0,alpha_face=1.0)\n",
    "    return mask\n",
    "\n",
    "def get_mask_from_file_json(files_json:str,color:bool=True,with_one_hot_encoder:bool=False):\n",
    "    with open(path_file) as read:\n",
    "        test = json.load(read)\n",
    "        imgHeight = int(test[\"imgHeight\"])\n",
    "        imgWidth = int(test[\"imgWidth\"])\n",
    "        # Création d'un mask vierge\n",
    "        if color:\n",
    "            image_shape = (imgHeight,imgWidth, 3)\n",
    "            segmap = np.zeros(image_shape, dtype=np.uint8)\n",
    "            for obj in test[\"objects\"]:\n",
    "                segmap = draw_on_mask(segmap,obj,cats,cats_id_color,image_shape)\n",
    "        else:\n",
    "            if with_one_hot_encoder:\n",
    "                image_shape = (imgHeight,imgWidth, len(cats_id_json_one_hot.keys()))\n",
    "                segmap = np.zeros(image_shape, dtype=np.uint8)\n",
    "                for obj in test[\"objects\"]:\n",
    "                    segmap = draw_on_mask(segmap,obj,cats,cats_id_json_one_hot,image_shape)\n",
    "            else:\n",
    "                image_shape= (imgHeight,imgWidth, 1)\n",
    "                segmap = np.zeros(image_shape, dtype=np.uint8)\n",
    "                for obj in test[\"objects\"]:\n",
    "                    segmap = draw_on_mask(segmap,obj,cats,cats_id_json,image_shape)\n",
    "    return segmap"
   ]
  },
  {
   "cell_type": "code",
   "execution_count": 22,
   "id": "6bf446f4",
   "metadata": {},
   "outputs": [
    {
     "name": "stdout",
     "output_type": "stream",
     "text": [
      "CPU times: user 6.97 s, sys: 1.9 s, total: 8.87 s\n",
      "Wall time: 8.92 s\n"
     ]
    }
   ],
   "source": [
    "%%time\n",
    "path_file = all_directory[\"aachen\"][0]\n",
    "mask_color = get_mask_from_file_json(path_file,color=True)\n",
    "mask_id = get_mask_from_file_json(path_file,color=False,with_one_hot_encoder=False)\n",
    "mask_id_one_hot = get_mask_from_file_json(path_file,color=False,with_one_hot_encoder=True)"
   ]
  },
  {
   "cell_type": "code",
   "execution_count": 23,
   "id": "51a0dbb9",
   "metadata": {},
   "outputs": [
    {
     "data": {
      "image/png": "[encoded data removed]",
      "text/plain": [
       "<Figure size 1440x1440 with 3 Axes>"
      ]
     },
     "metadata": {
      "needs_background": "light"
     },
     "output_type": "display_data"
    }
   ],
   "source": [
    "fig, axs = plt.subplots(1,3,figsize=(20,20))\n",
    "# fig.suptitle(\"Différence des mask .png\")\n",
    "axs[0].imshow(mask_color)\n",
    "axs[0].set_title(\"Avec couleurs\")\n",
    "\n",
    "axs[1].imshow(mask_id)\n",
    "axs[1].set_title(\"Avec les ids\")\n",
    "\n",
    "axs[2].imshow(np.argmax(mask_id_one_hot,axis=2))\n",
    "axs[2].set_title(\"Avec le one_hot_encoder (et np.argmax)\")\n",
    "\n",
    "plt.show()"
   ]
  },
  {
   "cell_type": "markdown",
   "id": "1d1156a3",
   "metadata": {},
   "source": [
    "### Benchmark"
   ]
  },
  {
   "cell_type": "code",
   "execution_count": 24,
   "id": "05ee712b",
   "metadata": {},
   "outputs": [],
   "source": [
    "i = 0\n",
    "SAMPLE_IMAGE = 100\n",
    "all_path_to_benchmark = []\n",
    "for json_files in all_directory.values():\n",
    "    for path_file in json_files:\n",
    "        if i < SAMPLE_IMAGE:\n",
    "            all_path_to_benchmark.append(path_file)\n",
    "        else:\n",
    "            break;\n",
    "        i+=1"
   ]
  },
  {
   "cell_type": "code",
   "execution_count": 25,
   "id": "046ef9f5",
   "metadata": {},
   "outputs": [],
   "source": [
    "def benchmark_json_file(all_path,one_hot_encoder):\n",
    "    all_record_time = []\n",
    "    for file in all_path:\n",
    "        start_loop = time.time()\n",
    "        # do function here\n",
    "        _=get_mask_from_file_json(path_file,color=False,with_one_hot_encoder=one_hot_encoder)\n",
    "        all_record_time.append(time.time() - start_loop)\n",
    "    return all_record_time"
   ]
  },
  {
   "cell_type": "code",
   "execution_count": 26,
   "id": "668c666f",
   "metadata": {},
   "outputs": [],
   "source": [
    "record = benchmark_json_file(all_path_to_benchmark,one_hot_encoder=False)\n",
    "record_one_hot = benchmark_json_file(all_path_to_benchmark,one_hot_encoder=True)"
   ]
  },
  {
   "cell_type": "code",
   "execution_count": 27,
   "id": "3525a9b7",
   "metadata": {},
   "outputs": [],
   "source": [
    "def benchmark_result(record,precision=4):\n",
    "    record = np.asarray(record)\n",
    "    print(f\"- Dimension de l'échantillion : {record.shape[0]}\")\n",
    "    print(f\"- Temps total : {round(record.sum(),precision)}s\")\n",
    "    print(f\"- Temps moyen : {round(record.mean(),precision)}s\")\n",
    "    print(f\"- Ecart type  : {round(record.std(),precision)}s\")"
   ]
  },
  {
   "cell_type": "code",
   "execution_count": 28,
   "id": "9702adff",
   "metadata": {},
   "outputs": [
    {
     "name": "stdout",
     "output_type": "stream",
     "text": [
      "Benchmark label ids méthode :\n",
      "- Dimension de l'échantillion : 100\n",
      "- Temps total : 85.4764s\n",
      "- Temps moyen : 0.8548s\n",
      "- Ecart type  : 0.0113s\n",
      "\n",
      "Benchmark one_hot_encoder méthode :\n",
      "- Dimension de l'échantillion : 100\n",
      "- Temps total : 457.5792s\n",
      "- Temps moyen : 4.5758s\n",
      "- Ecart type  : 0.0731s\n"
     ]
    }
   ],
   "source": [
    "print(\"Benchmark label ids méthode :\")\n",
    "benchmark_result(record)\n",
    "print()\n",
    "print(\"Benchmark one_hot_encoder méthode :\")\n",
    "benchmark_result(record_one_hot)"
   ]
  },
  {
   "cell_type": "code",
   "execution_count": 30,
   "id": "b2e40722",
   "metadata": {},
   "outputs": [],
   "source": [
    "json_mean_ohe = round(np.asarray(record_one_hot).mean(),4)\n",
    "json_mean_le = round(np.asarray(record).mean(),4)"
   ]
  },
  {
   "cell_type": "markdown",
   "id": "d3c768c0",
   "metadata": {},
   "source": [
    "## Depuis le fichier Labelids\n",
    "\n",
    "### Benchmark méthode d'ouverture (cv2, Pillow)"
   ]
  },
  {
   "cell_type": "code",
   "execution_count": 31,
   "id": "e0a2f7db",
   "metadata": {},
   "outputs": [
    {
     "name": "stdout",
     "output_type": "stream",
     "text": [
      "Temp pour récupérer les paths : 0.15s\n"
     ]
    }
   ],
   "source": [
    "# On récupére toutes les images LabelIds\n",
    "train_set,val_set,test_set = fnct.get_all_file(dir_y)"
   ]
  },
  {
   "cell_type": "code",
   "execution_count": 32,
   "id": "56abcaa9",
   "metadata": {},
   "outputs": [],
   "source": [
    "merge = []\n",
    "merge.extend(train_set)\n",
    "merge.extend(val_set)\n",
    "merge.extend(test_set)"
   ]
  },
  {
   "cell_type": "code",
   "execution_count": 33,
   "id": "884b4028",
   "metadata": {},
   "outputs": [],
   "source": [
    "SAMPLE_IMAGE_TO_OPEN = 1000"
   ]
  },
  {
   "cell_type": "code",
   "execution_count": 34,
   "id": "ef52736b",
   "metadata": {},
   "outputs": [],
   "source": [
    "all_path_to_benchmark_png = []\n",
    "i=0\n",
    "for path_file in merge:\n",
    "    if i < SAMPLE_IMAGE_TO_OPEN:\n",
    "        all_path_to_benchmark_png.append(path_file)\n",
    "    else:\n",
    "        break;\n",
    "    i+=1"
   ]
  },
  {
   "cell_type": "code",
   "execution_count": 35,
   "id": "d271f8d1",
   "metadata": {},
   "outputs": [
    {
     "data": {
      "text/plain": [
       "['./data/gtFine/train/aachen/aachen_000000_000019_gtFine_labelIds.png',\n",
       " './data/gtFine/train/aachen/aachen_000001_000019_gtFine_labelIds.png',\n",
       " './data/gtFine/train/aachen/aachen_000002_000019_gtFine_labelIds.png',\n",
       " './data/gtFine/train/aachen/aachen_000003_000019_gtFine_labelIds.png',\n",
       " './data/gtFine/train/aachen/aachen_000004_000019_gtFine_labelIds.png']"
      ]
     },
     "execution_count": 35,
     "metadata": {},
     "output_type": "execute_result"
    }
   ],
   "source": [
    "all_path_to_benchmark_png[:5]"
   ]
  },
  {
   "cell_type": "code",
   "execution_count": 36,
   "id": "f369c2d3",
   "metadata": {},
   "outputs": [],
   "source": [
    "from PIL import Image\n",
    "def benchmark_open_png(all_path,cv_method):\n",
    "    all_record_time = []\n",
    "    if cv_method:\n",
    "        for file in all_path:\n",
    "            start_loop = time.time()\n",
    "            # do function here\n",
    "            _ = cv2.imread(file,0)\n",
    "            all_record_time.append(time.time() - start_loop)\n",
    "    else:\n",
    "        for file in all_path:\n",
    "            start_loop = time.time()\n",
    "            # do function here\n",
    "            _ = np.array(Image.open(file))\n",
    "            all_record_time.append(time.time() - start_loop)\n",
    "    return all_record_time"
   ]
  },
  {
   "cell_type": "code",
   "execution_count": 37,
   "id": "454ab2db",
   "metadata": {},
   "outputs": [],
   "source": [
    "all_record_time = benchmark_open_png(all_path_to_benchmark_png,cv_method=False)\n",
    "all_record_time_cv2 = benchmark_open_png(all_path_to_benchmark_png,cv_method=True)"
   ]
  },
  {
   "cell_type": "code",
   "execution_count": 38,
   "id": "02e0d774",
   "metadata": {},
   "outputs": [
    {
     "name": "stdout",
     "output_type": "stream",
     "text": [
      "Benchmark Pillow méthode :\n",
      "- Dimension de l'échantillion : 1000\n",
      "- Temps total : 12.9225s\n",
      "- Temps moyen : 0.0129s\n",
      "- Ecart type  : 0.002s\n",
      "\n",
      "Benchmark CV2 méthode :\n",
      "- Dimension de l'échantillion : 1000\n",
      "- Temps total : 12.7631s\n",
      "- Temps moyen : 0.0128s\n",
      "- Ecart type  : 0.001s\n"
     ]
    }
   ],
   "source": [
    "print(\"Benchmark Pillow méthode :\")\n",
    "benchmark_result(all_record_time)\n",
    "print()\n",
    "print(\"Benchmark CV2 méthode :\")\n",
    "benchmark_result(all_record_time_cv2)"
   ]
  },
  {
   "cell_type": "markdown",
   "id": "92b47eb5",
   "metadata": {},
   "source": [
    "### Affichage des mask"
   ]
  },
  {
   "cell_type": "code",
   "execution_count": 39,
   "id": "dd960ab8",
   "metadata": {},
   "outputs": [
    {
     "name": "stdout",
     "output_type": "stream",
     "text": [
      "CPU times: user 351 ms, sys: 0 ns, total: 351 ms\n",
      "Wall time: 363 ms\n"
     ]
    }
   ],
   "source": [
    "%%time\n",
    "path_file=all_path_to_benchmark_png[0]\n",
    "mask_id = fnct.get_image_labelid(path_file,one_hot_encoder=False)\n",
    "mask_id_one_hot = fnct.get_image_labelid(path_file,one_hot_encoder=True)"
   ]
  },
  {
   "cell_type": "code",
   "execution_count": 40,
   "id": "86d58556",
   "metadata": {},
   "outputs": [
    {
     "data": {
      "image/png": "[encoded data removed]",
      "text/plain": [
       "<Figure size 1440x1440 with 2 Axes>"
      ]
     },
     "metadata": {
      "needs_background": "light"
     },
     "output_type": "display_data"
    }
   ],
   "source": [
    "fig, axs = plt.subplots(1,2,figsize=(20,20))\n",
    "\n",
    "axs[0].imshow(mask_id)\n",
    "axs[0].set_title(\"Avec les ids\")\n",
    "\n",
    "axs[1].imshow(np.argmax(mask_id_one_hot,axis=2))\n",
    "axs[1].set_title(\"Avec le one_hot_encoder (et np.argmax)\")\n",
    "\n",
    "plt.show()"
   ]
  },
  {
   "cell_type": "markdown",
   "id": "a6ca2065",
   "metadata": {},
   "source": [
    "### Bencharmk"
   ]
  },
  {
   "cell_type": "code",
   "execution_count": 41,
   "id": "75f2db15",
   "metadata": {},
   "outputs": [],
   "source": [
    "all_path_to_benchmark_png = []\n",
    "i=0\n",
    "for path_file in merge:\n",
    "    if i < SAMPLE_IMAGE:\n",
    "        all_path_to_benchmark_png.append(path_file)\n",
    "    else:\n",
    "        break;\n",
    "    i+=1"
   ]
  },
  {
   "cell_type": "code",
   "execution_count": 42,
   "id": "1ca2dc0c",
   "metadata": {},
   "outputs": [],
   "source": [
    "def benchmark_label_id(all_path,one_hot_encoder):\n",
    "    all_record_time = []\n",
    "    for file in all_path:\n",
    "        start_loop = time.time()\n",
    "        # do function here\n",
    "        _ = fnct.get_image_labelid(file,one_hot_encoder=one_hot_encoder)\n",
    "        all_record_time.append(time.time() - start_loop)\n",
    "        \n",
    "    return all_record_time"
   ]
  },
  {
   "cell_type": "code",
   "execution_count": 43,
   "id": "6966471d",
   "metadata": {},
   "outputs": [],
   "source": [
    "record_labelid = benchmark_label_id(all_path_to_benchmark_png,one_hot_encoder=False)\n",
    "record_one_hot_labelid = benchmark_label_id(all_path_to_benchmark_png,one_hot_encoder=True)"
   ]
  },
  {
   "cell_type": "code",
   "execution_count": 44,
   "id": "6ed2a5cd",
   "metadata": {},
   "outputs": [
    {
     "name": "stdout",
     "output_type": "stream",
     "text": [
      "Benchmark label ids méthode :\n",
      "- Dimension de l'échantillion : 100\n",
      "- Temps total : 19.4589s\n",
      "- Temps moyen : 0.1946s\n",
      "- Ecart type  : 0.0032s\n",
      "\n",
      "Benchmark one_hot_encoder méthode :\n",
      "- Dimension de l'échantillion : 100\n",
      "- Temps total : 18.7592s\n",
      "- Temps moyen : 0.1876s\n",
      "- Ecart type  : 0.0199s\n"
     ]
    }
   ],
   "source": [
    "print(\"Benchmark label ids méthode :\")\n",
    "benchmark_result(record_labelid)\n",
    "print()\n",
    "print(\"Benchmark one_hot_encoder méthode :\")\n",
    "benchmark_result(record_one_hot_labelid)"
   ]
  },
  {
   "cell_type": "code",
   "execution_count": 45,
   "id": "9ecb4009",
   "metadata": {},
   "outputs": [],
   "source": [
    "png_mean_ohe = round(np.asarray(record_one_hot_labelid).mean(),4)\n",
    "png_mean_le = round(np.asarray(record_labelid).mean(),4)"
   ]
  },
  {
   "cell_type": "markdown",
   "id": "a26ca061",
   "metadata": {},
   "source": [
    "# Conclusion"
   ]
  },
  {
   "cell_type": "code",
   "execution_count": 46,
   "id": "813cbeb5",
   "metadata": {},
   "outputs": [
    {
     "data": {
      "text/html": [
       "<div>\n",
       "<style scoped>\n",
       "    .dataframe tbody tr th:only-of-type {\n",
       "        vertical-align: middle;\n",
       "    }\n",
       "\n",
       "    .dataframe tbody tr th {\n",
       "        vertical-align: top;\n",
       "    }\n",
       "\n",
       "    .dataframe thead th {\n",
       "        text-align: right;\n",
       "    }\n",
       "</style>\n",
       "<table border=\"1\" class=\"dataframe\">\n",
       "  <thead>\n",
       "    <tr style=\"text-align: right;\">\n",
       "      <th></th>\n",
       "      <th>label_ids</th>\n",
       "      <th>json_file</th>\n",
       "      <th>gain_seconde_labelid_vs_json</th>\n",
       "    </tr>\n",
       "  </thead>\n",
       "  <tbody>\n",
       "    <tr>\n",
       "      <th>label_encoder</th>\n",
       "      <td>0.1946</td>\n",
       "      <td>0.8548</td>\n",
       "      <td>0.6602</td>\n",
       "    </tr>\n",
       "    <tr>\n",
       "      <th>one_hot_encoder</th>\n",
       "      <td>0.1876</td>\n",
       "      <td>4.5758</td>\n",
       "      <td>4.3882</td>\n",
       "    </tr>\n",
       "  </tbody>\n",
       "</table>\n",
       "</div>"
      ],
      "text/plain": [
       "                 label_ids  json_file  gain_seconde_labelid_vs_json\n",
       "label_encoder       0.1946     0.8548                        0.6602\n",
       "one_hot_encoder     0.1876     4.5758                        4.3882"
      ]
     },
     "execution_count": 46,
     "metadata": {},
     "output_type": "execute_result"
    }
   ],
   "source": [
    "import pandas as pd\n",
    "result_final = {\n",
    "    \"label_ids\":{\"label_encoder\":png_mean_le,\"one_hot_encoder\":png_mean_ohe},\n",
    "    \"json_file\":{\"label_encoder\":json_mean_le,\"one_hot_encoder\":json_mean_ohe}\n",
    "}\n",
    "\n",
    "tab_comparatif = pd.DataFrame(result_final)\n",
    "tab_comparatif[\"gain_seconde_labelid_vs_json\"] = tab_comparatif[\"json_file\"] - tab_comparatif[\"label_ids\"]\n",
    "tab_comparatif"
   ]
  },
  {
   "cell_type": "markdown",
   "id": "ac14e849",
   "metadata": {},
   "source": [
    "On vois sur le tableau comparatif que la récupération du fichier labelids et bien plus performante que la création avec le fichier json du masque from scratch\n",
    "\n",
    "le résultat est flagrant sur le fichier one_hot_encoder qui prend environ 4 seconde seconde de plus avec le fichier json (0.2 seconde environ contre 4.6 seconde environ pour le fichier json)."
   ]
  }
 ],
 "metadata": {
  "kernelspec": {
   "display_name": "Python 3",
   "language": "python",
   "name": "python3"
  },
  "language_info": {
   "codemirror_mode": {
    "name": "ipython",
    "version": 3
   },
   "file_extension": ".py",
   "mimetype": "text/x-python",
   "name": "python",
   "nbconvert_exporter": "python",
   "pygments_lexer": "ipython3",
   "version": "3.6.9"
  }
 },
 "nbformat": 4,
 "nbformat_minor": 5
}
